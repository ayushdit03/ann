{
 "cells": [
  {
   "cell_type": "code",
   "execution_count": 2,
   "id": "8970d6f4",
   "metadata": {},
   "outputs": [
    {
     "name": "stdout",
     "output_type": "stream",
     "text": [
      "Original pattern: [ 1  1 -1 -1]\n",
      "Retrieved pattern: [ 1  1 -1 -1]\n",
      "Energy: -2.0\n",
      "\n",
      "Original pattern: [-1 -1  1  1]\n",
      "Retrieved pattern: [-1 -1  1  1]\n",
      "Energy: -2.0\n",
      "\n",
      "Original pattern: [ 1 -1  1 -1]\n",
      "Retrieved pattern: [ 1 -1  1 -1]\n",
      "Energy: -2.0\n",
      "\n",
      "Original pattern: [-1  1 -1  1]\n",
      "Retrieved pattern: [-1  1 -1  1]\n",
      "Energy: -2.0\n",
      "\n"
     ]
    }
   ],
   "source": [
    "import numpy as np\n",
    "\n",
    "class HopfieldNetwork:\n",
    "    def __init__(self, num_neurons):\n",
    "        self.num_neurons = num_neurons\n",
    "        self.weights = np.zeros((num_neurons, num_neurons))\n",
    "\n",
    "    def train(self, patterns):\n",
    "        num_patterns = len(patterns)\n",
    "        for pattern in patterns:\n",
    "            self.weights += np.outer(pattern, pattern)\n",
    "        np.fill_diagonal(self.weights, 0)\n",
    "        self.weights /= num_patterns\n",
    "\n",
    "    def energy(self, pattern):\n",
    "        return -0.5 * np.dot(pattern, np.dot(self.weights, pattern))\n",
    "\n",
    "    def update(self, pattern, max_iterations=100):\n",
    "        for _ in range(max_iterations):\n",
    "            new_pattern = np.sign(np.dot(self.weights, pattern))\n",
    "            if np.array_equal(pattern, new_pattern):\n",
    "                break\n",
    "            pattern = new_pattern\n",
    "        return pattern\n",
    "\n",
    "# Define patterns\n",
    "patterns = np.array([\n",
    "    [1, 1, -1, -1],\n",
    "    [-1, -1, 1, 1],\n",
    "    [1, -1, 1, -1],\n",
    "    [-1, 1, -1, 1]\n",
    "])\n",
    "\n",
    "# Create and train the Hopfield network\n",
    "hopfield_net = HopfieldNetwork(num_neurons=len(patterns[0]))\n",
    "hopfield_net.train(patterns)\n",
    "\n",
    "# Test the network\n",
    "for test_pattern in patterns:\n",
    "    retrieved_pattern = hopfield_net.update(test_pattern)\n",
    "    print(\"Original pattern:\", test_pattern)\n",
    "    print(\"Retrieved pattern:\", retrieved_pattern)\n",
    "    print(\"Energy:\", hopfield_net.energy(retrieved_pattern))\n",
    "    print()"
   ]
  },
  {
   "cell_type": "code",
   "execution_count": null,
   "id": "2e39b855",
   "metadata": {},
   "outputs": [],
   "source": []
  }
 ],
 "metadata": {
  "kernelspec": {
   "display_name": "Python 3 (ipykernel)",
   "language": "python",
   "name": "python3"
  },
  "language_info": {
   "codemirror_mode": {
    "name": "ipython",
    "version": 3
   },
   "file_extension": ".py",
   "mimetype": "text/x-python",
   "name": "python",
   "nbconvert_exporter": "python",
   "pygments_lexer": "ipython3",
   "version": "3.11.5"
  }
 },
 "nbformat": 4,
 "nbformat_minor": 5
}
