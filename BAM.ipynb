{
 "cells": [
  {
   "cell_type": "code",
   "execution_count": 14,
   "id": "d2ab3109",
   "metadata": {},
   "outputs": [],
   "source": [
    "import numpy as np\n",
    "import seaborn as sbn\n",
    "import matplotlib.pyplot as plt"
   ]
  },
  {
   "cell_type": "code",
   "execution_count": 15,
   "id": "828ba08d",
   "metadata": {},
   "outputs": [
    {
     "name": "stdout",
     "output_type": "stream",
     "text": [
      "[[ 1  1  1  1  1  1]\n",
      " [-1 -1 -1 -1 -1 -1]\n",
      " [-1 -1  1  1 -1 -1]\n",
      " [ 1  1 -1 -1  1  1]] [[ 1  1  1]\n",
      " [-1 -1 -1]\n",
      " [-1  1 -1]\n",
      " [ 1 -1  1]]\n"
     ]
    }
   ],
   "source": [
    "x1 = [1,1,1,1,1,1]\n",
    "x2 = [-1,-1,-1,-1,-1,-1]\n",
    "x3 = [-1,-1,1,1,-1,-1]\n",
    "x4 = [1,1,-1,-1,1,1]\n",
    "X = np.array([x1,x2,x3,x4])\n",
    "\n",
    "y1 = [1,1,1]\n",
    "y2 = [-1,-1,-1]\n",
    "y3 = [-1,1,-1]\n",
    "y4 = [1,-1,1]\n",
    "Y = np.array([y1,y2,y3,y4])\n",
    "print(X, Y)"
   ]
  },
  {
   "cell_type": "code",
   "execution_count": 16,
   "id": "7f74a1ba",
   "metadata": {},
   "outputs": [
    {
     "data": {
      "text/plain": [
       "array([[4, 0, 4],\n",
       "       [4, 0, 4],\n",
       "       [0, 4, 0],\n",
       "       [0, 4, 0],\n",
       "       [4, 0, 4],\n",
       "       [4, 0, 4]])"
      ]
     },
     "execution_count": 16,
     "metadata": {},
     "output_type": "execute_result"
    }
   ],
   "source": [
    "def cal_weights(x, y):\n",
    "    return  np.dot(x.T, y)\n",
    "\n",
    "weights = cal_weights(X,Y)\n",
    "weights"
   ]
  },
  {
   "cell_type": "code",
   "execution_count": 17,
   "id": "97a44048",
   "metadata": {},
   "outputs": [],
   "source": [
    "def forwardbinarytest(matrix):\n",
    "    matrix[matrix>1]= 1\n",
    "    matrix[matrix<=0]= -1\n",
    "    return np.array(matrix)\n",
    "\n",
    "def backwardbinarytest(matrix):\n",
    "    matrix[matrix > 1] = 1\n",
    "    matrix[matrix <=0] = -1\n",
    "    return np.array(matrix)"
   ]
  },
  {
   "cell_type": "code",
   "execution_count": 18,
   "id": "b3fe1040",
   "metadata": {},
   "outputs": [],
   "source": [
    "def forward(y, weights):\n",
    "    x = np.dot(y, weights.T)\n",
    "    return forwardbinarytest(x)\n",
    "\n",
    "def backward(x, weights):\n",
    "    y = np.dot(x, weights)\n",
    "    return backwardbinarytest(y)"
   ]
  },
  {
   "cell_type": "code",
   "execution_count": 19,
   "id": "0c573c3e",
   "metadata": {},
   "outputs": [
    {
     "name": "stdout",
     "output_type": "stream",
     "text": [
      "actual X :  [[ 1  1  1  1  1  1]\n",
      " [-1 -1 -1 -1 -1 -1]\n",
      " [-1 -1  1  1 -1 -1]\n",
      " [ 1  1 -1 -1  1  1]]\n",
      "predicted X:  [[ 1  1  1  1  1  1]\n",
      " [-1 -1 -1 -1 -1 -1]\n",
      " [-1 -1  1  1 -1 -1]\n",
      " [ 1  1 -1 -1  1  1]]\n"
     ]
    }
   ],
   "source": [
    "print(\"actual X : \", X)\n",
    "print(\"predicted X: \", forward(Y, weights))"
   ]
  },
  {
   "cell_type": "code",
   "execution_count": 20,
   "id": "aaf82f50",
   "metadata": {},
   "outputs": [
    {
     "name": "stdout",
     "output_type": "stream",
     "text": [
      "actual Y:  [[ 1  1  1]\n",
      " [-1 -1 -1]\n",
      " [-1  1 -1]\n",
      " [ 1 -1  1]]\n",
      "predicted Y:  [[ 1  1  1]\n",
      " [-1 -1 -1]\n",
      " [-1  1 -1]\n",
      " [ 1 -1  1]]\n"
     ]
    }
   ],
   "source": [
    "print(\"actual Y: \", Y)\n",
    "print(\"predicted Y: \", backward(X, weights))"
   ]
  },
  {
   "cell_type": "code",
   "execution_count": null,
   "id": "7e7f555c",
   "metadata": {},
   "outputs": [],
   "source": []
  }
 ],
 "metadata": {
  "kernelspec": {
   "display_name": "Python 3 (ipykernel)",
   "language": "python",
   "name": "python3"
  },
  "language_info": {
   "codemirror_mode": {
    "name": "ipython",
    "version": 3
   },
   "file_extension": ".py",
   "mimetype": "text/x-python",
   "name": "python",
   "nbconvert_exporter": "python",
   "pygments_lexer": "ipython3",
   "version": "3.11.5"
  }
 },
 "nbformat": 4,
 "nbformat_minor": 5
}
