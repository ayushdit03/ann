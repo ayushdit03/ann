{
 "cells": [
  {
   "cell_type": "code",
   "execution_count": 13,
   "id": "6124c28f",
   "metadata": {},
   "outputs": [],
   "source": [
    "import numpy as np\n",
    "import seaborn as sbn\n",
    "import matplotlib.pyplot as plt"
   ]
  },
  {
   "cell_type": "code",
   "execution_count": 14,
   "id": "4320e165",
   "metadata": {},
   "outputs": [
    {
     "name": "stdout",
     "output_type": "stream",
     "text": [
      "[[1.76405235]\n",
      " [0.40015721]] [0.97873798]\n"
     ]
    }
   ],
   "source": [
    "x = np.array([[0,0],\n",
    "             [0,1],\n",
    "             [1,0],\n",
    "             [1,1]])\n",
    "y = np.array([[0],\n",
    "             [0],\n",
    "             [1],\n",
    "             [0]])\n",
    "np.random.seed(0)\n",
    "weights = np.random.randn(2,1)\n",
    "bias = np.random.randn(1)\n",
    "lr=0.2\n",
    "print(weights, bias)"
   ]
  },
  {
   "cell_type": "code",
   "execution_count": 15,
   "id": "fb2b5c92",
   "metadata": {},
   "outputs": [],
   "source": [
    "def sigmoid(x):\n",
    "    return 1/(1+np.exp(-x))\n",
    "def sigmoid_derivative(x):\n",
    "    return x*(1-x)\n",
    "def costfun(actual, predicted):\n",
    "    return np.mean((actual-predicted)**2)"
   ]
  },
  {
   "cell_type": "code",
   "execution_count": 16,
   "id": "b3cbdd4d",
   "metadata": {},
   "outputs": [],
   "source": [
    "def forward(x, weights, bias):\n",
    "    z = np.dot(x, weights) + bias\n",
    "    return sigmoid(z)\n",
    "\n",
    "def backward(x, y, output,weights, bias, lr):\n",
    "    error = y - output\n",
    "    d_output = error * sigmoid_derivative(output)\n",
    "    d_bias = np.sum(d_output)\n",
    "    d_weights = np.dot(x.T, d_output)\n",
    "    \n",
    "    weights += lr * d_weights\n",
    "    bias += lr * d_bias\n",
    "    \n",
    "    return weights, bias"
   ]
  },
  {
   "cell_type": "code",
   "execution_count": 17,
   "id": "921de996",
   "metadata": {},
   "outputs": [
    {
     "name": "stdout",
     "output_type": "stream",
     "text": [
      "epoch 0 : 0.5222640473160685\n",
      "epoch 500 : 0.015907897517111403\n",
      "epoch 1000 : 0.007615662120598545\n",
      "epoch 1500 : 0.004888494536101774\n",
      "epoch 2000 : 0.0035666839101172825\n",
      "epoch 2500 : 0.002794720154383939\n",
      "epoch 3000 : 0.0022913781707210113\n",
      "epoch 3500 : 0.0019383948853973084\n",
      "epoch 4000 : 0.0016777143595284808\n",
      "epoch 4500 : 0.00147761723285077\n",
      "epoch 5000 : 0.0013193542881756721\n",
      "epoch 5500 : 0.0011911526498762774\n",
      "epoch 6000 : 0.0010852573033969834\n",
      "epoch 6500 : 0.000996357124872246\n",
      "epoch 7000 : 0.0009206954383765072\n",
      "epoch 7500 : 0.0008555418202813381\n",
      "epoch 8000 : 0.0007988651078996652\n",
      "epoch 8500 : 0.0007491236768349459\n",
      "epoch 9000 : 0.0007051267677294409\n",
      "epoch 9500 : 0.0006659403262491322\n"
     ]
    }
   ],
   "source": [
    "for epoch in range(10000):\n",
    "    output = forward(x, weights, bias)\n",
    "    weights, bias = backward(x,y, output,weights, bias, lr)\n",
    "    \n",
    "    cost = costfun(y, output)\n",
    "    if epoch%500 == 0:\n",
    "        print(f\"epoch {epoch} :\", cost)"
   ]
  },
  {
   "cell_type": "code",
   "execution_count": 18,
   "id": "380df839",
   "metadata": {},
   "outputs": [
    {
     "data": {
      "text/plain": [
       "array([1.])"
      ]
     },
     "execution_count": 18,
     "metadata": {},
     "output_type": "execute_result"
    }
   ],
   "source": [
    "test = np.array([1,0])\n",
    "forward(test, weights, bias).round()"
   ]
  },
  {
   "cell_type": "code",
   "execution_count": 19,
   "id": "142aa7f6",
   "metadata": {},
   "outputs": [
    {
     "name": "stdout",
     "output_type": "stream",
     "text": [
      "ANDNOT Function Test:\n",
      "Input: (0, 0), Output: 0, Expected: 0\n",
      "Input: (0, 1), Output: 0, Expected: 0\n",
      "Input: (1, 0), Output: 1, Expected: 1\n",
      "Input: (1, 1), Output: 0, Expected: 0\n"
     ]
    }
   ],
   "source": [
    "import numpy as np\n",
    "class McCullochPittsNeuron:\n",
    "    def __init__(self, weights, threshold):\n",
    "        self.weights = weights\n",
    "        self.threshold = threshold\n",
    "\n",
    "    def activate(self, inputs):\n",
    "        weighted_sum = np.dot(self.weights, inputs)\n",
    "        if weighted_sum >= self.threshold:\n",
    "            return 1\n",
    "        else:\n",
    "            return 0\n",
    "\n",
    "# Define ANDNOT function inputs and outputs\n",
    "ANDNOT_inputs = [(0, 0), (0, 1), (1, 0), (1, 1)]\n",
    "ANDNOT_outputs = [0, 0, 1, 0]\n",
    "\n",
    "# Initialize weights and threshold for ANDNOT neuron\n",
    "weights = [1, -1]  # First input has weight 1, second input has weight -1\n",
    "threshold = 1\n",
    "\n",
    "# Create McCulloch-Pitts neuron for ANDNOT function\n",
    "ANDNOT_neuron = McCullochPittsNeuron(weights, threshold)\n",
    "\n",
    "# Test the ANDNOT function\n",
    "print(\"ANDNOT Function Test:\")\n",
    "for inputs, output in zip(ANDNOT_inputs, ANDNOT_outputs):\n",
    "    result = ANDNOT_neuron.activate(inputs)\n",
    "    print(f\"Input: {inputs}, Output: {result}, Expected: {output}\")"
   ]
  }
 ],
 "metadata": {
  "kernelspec": {
   "display_name": "Python 3 (ipykernel)",
   "language": "python",
   "name": "python3"
  },
  "language_info": {
   "codemirror_mode": {
    "name": "ipython",
    "version": 3
   },
   "file_extension": ".py",
   "mimetype": "text/x-python",
   "name": "python",
   "nbconvert_exporter": "python",
   "pygments_lexer": "ipython3",
   "version": "3.11.5"
  }
 },
 "nbformat": 4,
 "nbformat_minor": 5
}
