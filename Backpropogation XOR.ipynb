{
 "cells": [
  {
   "cell_type": "code",
   "execution_count": 1,
   "id": "0b16bbd4",
   "metadata": {},
   "outputs": [],
   "source": [
    "import numpy as np\n",
    "import seaborn as sbn\n",
    "import matplotlib.pyplot as plt"
   ]
  },
  {
   "cell_type": "code",
   "execution_count": 3,
   "id": "5e4ffcb7",
   "metadata": {},
   "outputs": [
    {
     "data": {
      "text/plain": [
       "array([[0.],\n",
       "       [1.],\n",
       "       [1.],\n",
       "       [0.]])"
      ]
     },
     "execution_count": 3,
     "metadata": {},
     "output_type": "execute_result"
    }
   ],
   "source": [
    "import numpy as np\n",
    "\n",
    "x = np.array([[0, 0],\n",
    "              [0, 1],\n",
    "              [1, 0],\n",
    "              [1, 1]])\n",
    "\n",
    "y = np.array([[0],\n",
    "              [1],\n",
    "              [1],\n",
    "              [0]])\n",
    "\n",
    "lr = 0.5\n",
    "\n",
    "class XOR:\n",
    "    def __init__(self, x, y, lr):\n",
    "        self.x = x\n",
    "        self.y = y\n",
    "        self.lr = lr\n",
    "        np.random.seed(0)\n",
    "        self.w1 = np.random.randn(2, 2)\n",
    "        self.b1 = np.random.randn(2)\n",
    "        self.w2 = np.random.randn(2, 1)\n",
    "        self.b2 = np.random.randn(1)\n",
    "\n",
    "    def sigmoid(self, x):\n",
    "        return 1 / (1 + np.exp(-x))\n",
    "\n",
    "    def sigmoid_derivative(self, x):\n",
    "        return x * (1 - x)\n",
    "\n",
    "    def costfn(self, y_true, y_pred):\n",
    "        return np.mean((y_true - y_pred) ** 2)\n",
    "\n",
    "    def forward(self, x):\n",
    "        self.z1 = np.dot(x, self.w1) + self.b1\n",
    "        self.s1 = self.sigmoid(self.z1)\n",
    "        self.z2 = np.dot(self.s1, self.w2) + self.b2\n",
    "        self.s2 = self.sigmoid(self.z2)\n",
    "        return self.s2\n",
    "\n",
    "    def backward(self, x, y, output):\n",
    "        self.output_error = y - output\n",
    "        self.d_output = self.output_error * self.sigmoid_derivative(output)\n",
    "        self.d_b = np.sum(self.d_output, axis=0)\n",
    "        self.d_w = np.dot(self.s1.T, self.d_output)\n",
    "\n",
    "        self.z1_error = np.dot(self.d_output, self.w2.T)\n",
    "        self.d_z1 = self.z1_error * self.sigmoid_derivative(self.s1)\n",
    "        self.d_z1_b = np.sum(self.d_z1, axis=0)\n",
    "        self.d_z1_w = np.dot(x.T, self.d_z1)  # Gradient of weights between input and hidden layer\n",
    "\n",
    "        self.w1 += self.lr * self.d_z1_w  # No reshape needed\n",
    "        self.b1 += self.lr * self.d_z1_b\n",
    "        self.w2 += self.lr * self.d_w\n",
    "        self.b2 += self.lr * self.d_b\n",
    "\n",
    "    def train(self, x, y):\n",
    "        for epoch in range(10000):\n",
    "            output = self.forward(x)\n",
    "            self.backward(x, y, output)\n",
    "\n",
    "    def predict(self, x):\n",
    "        return self.forward(x)\n",
    "\n",
    "xor = XOR(x, y, lr)\n",
    "xor.train(x, y)\n",
    "xor.predict(np.array([[0, 0],\n",
    "              [0, 1],\n",
    "              [1, 0],\n",
    "              [1, 1]])).round()"
   ]
  },
  {
   "cell_type": "code",
   "execution_count": null,
   "id": "254589b6",
   "metadata": {},
   "outputs": [],
   "source": []
  }
 ],
 "metadata": {
  "kernelspec": {
   "display_name": "Python 3 (ipykernel)",
   "language": "python",
   "name": "python3"
  },
  "language_info": {
   "codemirror_mode": {
    "name": "ipython",
    "version": 3
   },
   "file_extension": ".py",
   "mimetype": "text/x-python",
   "name": "python",
   "nbconvert_exporter": "python",
   "pygments_lexer": "ipython3",
   "version": "3.11.5"
  }
 },
 "nbformat": 4,
 "nbformat_minor": 5
}
