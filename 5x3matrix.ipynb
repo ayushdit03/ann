{
 "cells": [
  {
   "cell_type": "code",
   "execution_count": 1,
   "id": "7be2444b",
   "metadata": {},
   "outputs": [],
   "source": [
    "import numpy as np\n",
    "import seaborn as sbn\n",
    "import matplotlib.pyplot as plt"
   ]
  },
  {
   "cell_type": "code",
   "execution_count": 2,
   "id": "cf8f52d5",
   "metadata": {},
   "outputs": [
    {
     "name": "stdout",
     "output_type": "stream",
     "text": [
      "[[1 1 1 1 0 1 1 0 1 1 0 1 1 1 1]\n",
      " [0 1 0 0 1 0 0 1 0 0 1 0 1 1 1]\n",
      " [1 1 1 0 0 1 1 1 1 1 0 0 1 1 1]\n",
      " [1 1 1 0 0 1 1 1 1 0 0 1 1 1 1]\n",
      " [1 1 1 1 0 1 1 1 1 0 0 1 1 1 1]]\n"
     ]
    }
   ],
   "source": [
    "num_0 = np.array([[1,1,1],\n",
    "                 [1,0,1],\n",
    "                 [1,0,1],\n",
    "                 [1,0,1],\n",
    "                 [1,1,1]])\n",
    "num_1 = np.array([[0,1,0],\n",
    "                 [0,1,0],\n",
    "                 [0,1,0],\n",
    "                 [0,1,0],\n",
    "                 [1,1,1]])\n",
    "num_2 = np.array([[1,1,1],\n",
    "                  [0,0,1],\n",
    "                  [1,1,1],\n",
    "                  [1,0,0],\n",
    "                  [1,1,1]])\n",
    "num_3 = np.array([[1,1,1],\n",
    "                 [0,0,1],\n",
    "                 [1,1,1],\n",
    "                 [0,0,1],\n",
    "                 [1,1,1]])\n",
    "num_9 = np.array([[1,1,1],\n",
    "                 [1,0,1],\n",
    "                 [1,1,1],\n",
    "                 [0,0,1],\n",
    "                 [1,1,1]])\n",
    "\n",
    "\n",
    "X = np.array([num_0.flatten(), num_1.flatten(), num_2.flatten(), num_3.flatten(), num_9.flatten()])\n",
    "y = np.array([[0,0,0,0,0],\n",
    "             [0,0,0,0,1],\n",
    "              [0,0,0,1,0],\n",
    "              [0,0,0,1,1],\n",
    "              [1,0,0,0,1]])\n",
    "weights = np.random.randn(15,5)\n",
    "bias = np.random.randn(1)\n",
    "lr = 0.5\n",
    "print(X)"
   ]
  },
  {
   "cell_type": "code",
   "execution_count": 3,
   "id": "e3724b85",
   "metadata": {},
   "outputs": [],
   "source": [
    "def sigmoid(x):\n",
    "    return 1/(1+np.exp(-x))\n",
    "\n",
    "def sigmoid_derivative(x):\n",
    "    return x*(1-x)\n",
    "\n",
    "def costfn(actual, pred):\n",
    "    return np.mean((actual-pred)**2)"
   ]
  },
  {
   "cell_type": "code",
   "execution_count": 4,
   "id": "7cfc3f52",
   "metadata": {},
   "outputs": [],
   "source": [
    "def forward(x, weights, bias):\n",
    "    z = np.dot(x, weights) + bias\n",
    "    return sigmoid(z)\n",
    "\n",
    "def backward(x, y, output, weights, bias, lr):\n",
    "    error = y - output\n",
    "    d_output = error * sigmoid_derivative(output)\n",
    "    d_bias = np.sum(d_output)\n",
    "    d_weights = np.dot(x.T, d_output)\n",
    "    \n",
    "    weights += lr * d_weights\n",
    "    bias += lr * d_bias\n",
    "    \n",
    "    return weights, bias"
   ]
  },
  {
   "cell_type": "code",
   "execution_count": 5,
   "id": "1e266364",
   "metadata": {},
   "outputs": [
    {
     "name": "stdout",
     "output_type": "stream",
     "text": [
      "epoch 0 :  0.19940057166276057\n",
      "epoch 1000 :  0.0006430633972493065\n",
      "epoch 2000 :  0.00030843203167680693\n",
      "epoch 3000 :  0.0002020251386174593\n",
      "epoch 4000 :  0.00014996009420630284\n",
      "epoch 5000 :  0.00011913117424845747\n",
      "epoch 6000 :  9.876634837663977e-05\n",
      "epoch 7000 :  8.43195958070026e-05\n",
      "epoch 8000 :  7.354282725719988e-05\n",
      "epoch 9000 :  6.519758971323272e-05\n"
     ]
    }
   ],
   "source": [
    "for epoch in range(10000):\n",
    "    output = forward(X, weights, bias)\n",
    "    weights, bias = backward(X,y, output, weights, bias, lr)\n",
    "    \n",
    "    cost = costfn(y, output)\n",
    "    if epoch%1000 == 0:\n",
    "        print(f\"epoch {epoch} : \", cost)"
   ]
  },
  {
   "cell_type": "code",
   "execution_count": 6,
   "id": "efe6294f",
   "metadata": {},
   "outputs": [
    {
     "data": {
      "text/plain": [
       "array([1., 0., 0., 0., 1.])"
      ]
     },
     "execution_count": 6,
     "metadata": {},
     "output_type": "execute_result"
    }
   ],
   "source": [
    "test = np.array([[1,1,1],\n",
    "                 [1,0,1],\n",
    "                 [1,1,1],\n",
    "                 [0,0,1],\n",
    "                 [1,1,1]])\n",
    "forward(test.flatten(), weights, bias).round()"
   ]
  },
  {
   "cell_type": "code",
   "execution_count": null,
   "id": "cca77c94",
   "metadata": {},
   "outputs": [],
   "source": []
  }
 ],
 "metadata": {
  "kernelspec": {
   "display_name": "Python 3 (ipykernel)",
   "language": "python",
   "name": "python3"
  },
  "language_info": {
   "codemirror_mode": {
    "name": "ipython",
    "version": 3
   },
   "file_extension": ".py",
   "mimetype": "text/x-python",
   "name": "python",
   "nbconvert_exporter": "python",
   "pygments_lexer": "ipython3",
   "version": "3.11.5"
  }
 },
 "nbformat": 4,
 "nbformat_minor": 5
}
