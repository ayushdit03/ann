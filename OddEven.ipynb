{
 "cells": [
  {
   "cell_type": "code",
   "execution_count": 18,
   "id": "99ecde62",
   "metadata": {},
   "outputs": [],
   "source": [
    "import numpy as np\n",
    "import seaborn as sbn\n",
    "import matplotlib.pyplot as plt"
   ]
  },
  {
   "cell_type": "code",
   "execution_count": 19,
   "id": "a68a69ce",
   "metadata": {},
   "outputs": [],
   "source": [
    "x = np.array([[0,0,0,0],\n",
    "             [0,0,0,1],\n",
    "             [0,0,1,0],\n",
    "             [0,0,1,1],\n",
    "             [0,1,0,0],\n",
    "             [0,1,0,1],\n",
    "             [0,1,1,0],\n",
    "             [0,1,1,1],\n",
    "             [1,0,0,0],\n",
    "             [1,0,0,1]])\n",
    "y = np.array([[1],\n",
    "             [0],\n",
    "             [1],\n",
    "             [0],\n",
    "             [1],\n",
    "             [0],\n",
    "             [1],\n",
    "             [0],\n",
    "             [1],\n",
    "             [0]])\n",
    "np.random.seed(0)\n",
    "weights = np.random.randn(4,1)\n",
    "bias = np.random.randn(1)\n",
    "lr=0.2"
   ]
  },
  {
   "cell_type": "code",
   "execution_count": 20,
   "id": "6f52ccfc",
   "metadata": {},
   "outputs": [],
   "source": [
    "def sigmoid(x):\n",
    "    return 1/(1+np.exp(-x))\n",
    "def sigmoid_derivative(x):\n",
    "    return x*(1-x)\n",
    "def costfun(actual, predicted):\n",
    "    return np.mean((actual-predicted)**2)"
   ]
  },
  {
   "cell_type": "code",
   "execution_count": 21,
   "id": "fe1490a4",
   "metadata": {},
   "outputs": [],
   "source": [
    "def forward(x, weights, bias):\n",
    "    z = np.dot(x, weights) + bias\n",
    "    return sigmoid(z)\n",
    "\n",
    "def backward(x, y, output,weights, bias, lr):\n",
    "    error = y - output\n",
    "    d_output = error * sigmoid_derivative(output)\n",
    "    d_bias = np.sum(d_output)\n",
    "    d_weights = np.dot(x.T, d_output)\n",
    "    \n",
    "    weights += lr * d_weights\n",
    "    bias += lr * d_bias\n",
    "    \n",
    "    return weights, bias"
   ]
  },
  {
   "cell_type": "code",
   "execution_count": 22,
   "id": "0ec5ca1d",
   "metadata": {},
   "outputs": [
    {
     "name": "stdout",
     "output_type": "stream",
     "text": [
      "epoch 0 : 0.49519783131672224\n",
      "epoch 500 : 0.0038629593381041783\n",
      "epoch 1000 : 0.0016148707863460194\n",
      "epoch 1500 : 0.0010095951333754277\n",
      "epoch 2000 : 0.0007316172001840469\n",
      "epoch 2500 : 0.0005726477494857689\n",
      "epoch 3000 : 0.00046995724868990186\n",
      "epoch 3500 : 0.00039824424869185115\n",
      "epoch 4000 : 0.0003453717073963841\n",
      "epoch 4500 : 0.00030479969377647173\n",
      "epoch 5000 : 0.0002726959890982125\n",
      "epoch 5500 : 0.00024666775171739254\n",
      "epoch 6000 : 0.00022514449578149416\n",
      "epoch 6500 : 0.00020705316001149495\n",
      "epoch 7000 : 0.0001916358381199795\n",
      "epoch 7500 : 0.00017834212033335123\n",
      "epoch 8000 : 0.0001667627102943839\n",
      "epoch 8500 : 0.00015658697473869824\n",
      "epoch 9000 : 0.0001475749358783068\n",
      "epoch 9500 : 0.00013953828464507873\n"
     ]
    }
   ],
   "source": [
    "for epoch in range(10000):\n",
    "    output = forward(x, weights, bias)\n",
    "    weights, bias = backward(x,y, output,weights, bias, lr)\n",
    "    \n",
    "    cost = costfun(y, output)\n",
    "    if epoch%500 == 0:\n",
    "        print(f\"epoch {epoch} :\", cost)"
   ]
  },
  {
   "cell_type": "code",
   "execution_count": 23,
   "id": "a2668b76",
   "metadata": {},
   "outputs": [
    {
     "name": "stdout",
     "output_type": "stream",
     "text": [
      "odd\n"
     ]
    }
   ],
   "source": [
    "test = np.array([0,0,0,1])\n",
    "if forward(test, weights, bias).round() ==1:\n",
    "    print(\"even\")\n",
    "else:\n",
    "    print(\"odd\")"
   ]
  },
  {
   "cell_type": "code",
   "execution_count": null,
   "id": "6ddedb7b",
   "metadata": {},
   "outputs": [],
   "source": []
  }
 ],
 "metadata": {
  "kernelspec": {
   "display_name": "Python 3 (ipykernel)",
   "language": "python",
   "name": "python3"
  },
  "language_info": {
   "codemirror_mode": {
    "name": "ipython",
    "version": 3
   },
   "file_extension": ".py",
   "mimetype": "text/x-python",
   "name": "python",
   "nbconvert_exporter": "python",
   "pygments_lexer": "ipython3",
   "version": "3.11.5"
  }
 },
 "nbformat": 4,
 "nbformat_minor": 5
}
