{
 "cells": [
  {
   "cell_type": "code",
   "execution_count": 6,
   "id": "707b7c06",
   "metadata": {},
   "outputs": [],
   "source": [
    "import numpy as np\n",
    "import seaborn as sbn\n",
    "import matplotlib.pyplot as plt"
   ]
  },
  {
   "cell_type": "code",
   "execution_count": 7,
   "id": "c5b41807",
   "metadata": {},
   "outputs": [],
   "source": [
    "X  = np.array([[0,0],\n",
    "              [0,1],\n",
    "              [1,0],\n",
    "              [1,1]])\n",
    "y = np.array([[0],\n",
    "             [1],\n",
    "             [1],\n",
    "             [1]])\n",
    "lr = 0.5\n",
    "weights = np.random.randn(2,1)\n",
    "bias = np.random.randn(1)"
   ]
  },
  {
   "cell_type": "code",
   "execution_count": 8,
   "id": "e5656c6f",
   "metadata": {},
   "outputs": [],
   "source": [
    "def sigmoid(x):\n",
    "    return 1/(1+np.exp(-x))\n",
    "\n",
    "def sigmoid_derivative(x):\n",
    "    return x*(1-x)\n",
    "\n",
    "def costfn(actual, pred):\n",
    "    return np.mean((actual-pred)**2)"
   ]
  },
  {
   "cell_type": "code",
   "execution_count": 9,
   "id": "13df6254",
   "metadata": {},
   "outputs": [],
   "source": [
    "def forward(x, weights, bias):\n",
    "    z = np.dot(x, weights) + bias\n",
    "    return sigmoid(z)\n",
    "\n",
    "def backward(x, y, output, bias, weights, lr):\n",
    "    error = y - output\n",
    "    d_output = error * sigmoid_derivative(output)\n",
    "    d_bias = np.sum(d_output)\n",
    "    d_weights = np.dot(x.T, d_output)\n",
    "    \n",
    "    weights += lr * d_weights\n",
    "    bias += lr * d_bias\n",
    "    \n",
    "    return weights, bias"
   ]
  },
  {
   "cell_type": "code",
   "execution_count": 10,
   "id": "9d912c08",
   "metadata": {},
   "outputs": [
    {
     "name": "stdout",
     "output_type": "stream",
     "text": [
      "epoch 0 :  0.23086493001315023\n",
      "epoch 5000 :  0.0005060159575106652\n",
      "epoch 10000 :  0.00024406091066572652\n",
      "epoch 15000 :  0.0001601871503376997\n",
      "epoch 20000 :  0.0001190416252866936\n",
      "epoch 25000 :  9.464330699430474e-05\n"
     ]
    }
   ],
   "source": [
    "for epoch in range(30000):\n",
    "    output = forward(X, weights, bias)\n",
    "    weights, bias = backward(X, y, output, bias, weights, lr)\n",
    "    \n",
    "    cost = costfn(y, output)\n",
    "    if epoch%5000 == 0:\n",
    "        print(f\"epoch {epoch} : \", cost)"
   ]
  },
  {
   "cell_type": "code",
   "execution_count": 11,
   "id": "fde462ad",
   "metadata": {},
   "outputs": [
    {
     "data": {
      "text/plain": [
       "array([1.])"
      ]
     },
     "execution_count": 11,
     "metadata": {},
     "output_type": "execute_result"
    }
   ],
   "source": [
    "test = np.array([0,1])\n",
    "forward(test, weights, bias).round()"
   ]
  },
  {
   "cell_type": "code",
   "execution_count": null,
   "id": "140099ac",
   "metadata": {},
   "outputs": [],
   "source": []
  }
 ],
 "metadata": {
  "kernelspec": {
   "display_name": "Python 3 (ipykernel)",
   "language": "python",
   "name": "python3"
  },
  "language_info": {
   "codemirror_mode": {
    "name": "ipython",
    "version": 3
   },
   "file_extension": ".py",
   "mimetype": "text/x-python",
   "name": "python",
   "nbconvert_exporter": "python",
   "pygments_lexer": "ipython3",
   "version": "3.11.5"
  }
 },
 "nbformat": 4,
 "nbformat_minor": 5
}
